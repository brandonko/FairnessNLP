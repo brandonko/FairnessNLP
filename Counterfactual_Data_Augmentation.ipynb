{
  "nbformat": 4,
  "nbformat_minor": 0,
  "metadata": {
    "colab": {
      "name": "Counterfactual_Data_Augmentation.ipynb",
      "provenance": [],
      "collapsed_sections": [],
      "authorship_tag": "ABX9TyPFb48zNEoLV/8gA3eY1Wde",
      "include_colab_link": true
    },
    "kernelspec": {
      "name": "python3",
      "display_name": "Python 3"
    },
    "language_info": {
      "name": "python"
    }
  },
  "cells": [
    {
      "cell_type": "markdown",
      "metadata": {
        "id": "view-in-github",
        "colab_type": "text"
      },
      "source": [
        "<a href=\"https://colab.research.google.com/github/brandonko/FairnessNLP/blob/main/Counterfactual_Data_Augmentation.ipynb\" target=\"_parent\"><img src=\"https://colab.research.google.com/assets/colab-badge.svg\" alt=\"Open In Colab\"/></a>"
      ]
    },
    {
      "cell_type": "markdown",
      "metadata": {
        "id": "Q-hi7Bgj_kQi"
      },
      "source": [
        "# **Counterfactual Data Augmentation**\n",
        "Bias mitigation technique from [Dinan et al. (2020)](https://arxiv.org/abs/1911.03842)"
      ]
    },
    {
      "cell_type": "code",
      "metadata": {
        "colab": {
          "base_uri": "https://localhost:8080/"
        },
        "id": "rxch2k2yM0lO",
        "outputId": "af24d19f-454e-47b8-a870-7aa71b48af7e"
      },
      "source": [
        "import nltk\n",
        "nltk.download('punkt')"
      ],
      "execution_count": null,
      "outputs": [
        {
          "output_type": "stream",
          "text": [
            "[nltk_data] Downloading package punkt to /root/nltk_data...\n",
            "[nltk_data]   Unzipping tokenizers/punkt.zip.\n"
          ],
          "name": "stdout"
        },
        {
          "output_type": "execute_result",
          "data": {
            "text/plain": [
              "True"
            ]
          },
          "metadata": {
            "tags": []
          },
          "execution_count": 1
        }
      ]
    },
    {
      "cell_type": "code",
      "metadata": {
        "colab": {
          "base_uri": "https://localhost:8080/"
        },
        "id": "tz1J_yWX_roo",
        "outputId": "3b11cdfb-9b37-4e1d-f1bf-9b8eb374e2cb"
      },
      "source": [
        "from google.colab import drive\n",
        "drive.mount('/content/drive')"
      ],
      "execution_count": null,
      "outputs": [
        {
          "output_type": "stream",
          "text": [
            "Mounted at /content/drive\n"
          ],
          "name": "stdout"
        }
      ]
    },
    {
      "cell_type": "markdown",
      "metadata": {
        "id": "IsmjYFmoNO78"
      },
      "source": [
        "## Read in the gender word lists from [Zhao et al. (2018)](https://arxiv.org/abs/1809.01496)"
      ]
    },
    {
      "cell_type": "code",
      "metadata": {
        "id": "-uijTqOXNOpw"
      },
      "source": [
        "# Edit the file paths below to go to the files containing the female and male word\n",
        "# lists. These word lists are in data/female_word_file.txt and data/male_word_file.txt\n",
        "# in the GitHub repo.\n",
        "female_words = []\n",
        "male_words = []\n",
        "with open('/content/drive/MyDrive/NLP Capstone/data/female_word_file.txt', 'r') as female_word_file:\n",
        "    female_words = female_word_file.read().split()\n",
        "with open('/content/drive/MyDrive/NLP Capstone/data/male_word_file.txt', 'r') as male_word_file:\n",
        "    male_words = male_word_file.read().split()\n",
        "gender_word_pairs = dict()\n",
        "for i in range(0, len(female_words)):\n",
        "    gender_word_pairs[female_words[i]] = male_words[i]\n",
        "    gender_word_pairs[male_words[i]] = female_words[i]"
      ],
      "execution_count": null,
      "outputs": []
    },
    {
      "cell_type": "markdown",
      "metadata": {
        "id": "1tMBJj5Z4uKF"
      },
      "source": [
        "## Perform counterfactual data augmentation"
      ]
    },
    {
      "cell_type": "code",
      "metadata": {
        "id": "9Cgwpih6_d6k"
      },
      "source": [
        "def add_counterfactuals(data, word_pairs):\n",
        "    \"\"\"Augments the data by replacing each word from the given word_pairs in\n",
        "    the given data with its counterfactual from word_pairs. \n",
        "\n",
        "    Args:\n",
        "      data: The dataset to augment. Expected format is a list where\n",
        "      each element is text.\n",
        "      word_pairs: Dictionary where each key is a word and the value is\n",
        "      the counterfactual (another word) for that word. All keys and values\n",
        "      should be lowercase.\n",
        "\n",
        "    Returns:\n",
        "      The data augmented with each word in word_pairs replaced with its\n",
        "      counterfactual.\n",
        "    \"\"\"\n",
        "    new_data = []\n",
        "    for item in data:\n",
        "        new_data.append(item)\n",
        "        words = item.split()\n",
        "        found_counterfactual = False\n",
        "        for i in range(0, len(words)):\n",
        "            # Separate word and any punctuation\n",
        "            tokens = nltk.word_tokenize(words[i])\n",
        "            for j in range(0, len(tokens)):\n",
        "                if tokens[j].lower() in word_pairs:\n",
        "                    found_counterfactual = True\n",
        "                    if tokens[j].istitle():\n",
        "                        tokens[j] = word_pairs[tokens[j].lower()].title()\n",
        "                    elif tokens[j].isupper():\n",
        "                        tokens[j] = word_pairs[tokens[j].lower()].upper()\n",
        "                    else:\n",
        "                        tokens[j] = word_pairs[tokens[j].lower()]\n",
        "            words[i] = ''.join(tokens)\n",
        "        if found_counterfactual:\n",
        "            new_data.append(' '.join(words))\n",
        "    return new_data"
      ],
      "execution_count": null,
      "outputs": []
    }
  ]
}